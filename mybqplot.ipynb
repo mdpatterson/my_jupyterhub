{
 "cells": [
  {
   "cell_type": "code",
   "execution_count": 4,
   "id": "a81788ec-205c-45f0-8da0-0fabcad65833",
   "metadata": {},
   "outputs": [
    {
     "name": "stdout",
     "output_type": "stream",
     "text": [
      "Defaulting to user installation because normal site-packages is not writeable\n",
      "Requirement already satisfied: bqplot in ./.local/lib/python3.10/site-packages (0.12.40)\n",
      "Requirement already satisfied: traittypes>=0.0.6 in ./.local/lib/python3.10/site-packages (from bqplot) (0.2.1)\n",
      "Requirement already satisfied: pandas<3.0.0,>=1.0.0 in ./.local/lib/python3.10/site-packages (from bqplot) (2.0.3)\n",
      "Requirement already satisfied: ipywidgets<9,>=7.5.0 in ./.local/lib/python3.10/site-packages (from bqplot) (8.1.0)\n",
      "Requirement already satisfied: numpy>=1.10.4 in /usr/lib/python3/dist-packages (from bqplot) (1.21.5)\n",
      "Requirement already satisfied: traitlets>=4.3.0 in ./.local/lib/python3.10/site-packages (from bqplot) (5.9.0)\n",
      "Requirement already satisfied: ipython>=6.1.0 in /usr/lib/python3/dist-packages (from ipywidgets<9,>=7.5.0->bqplot) (7.31.1)\n",
      "Requirement already satisfied: comm>=0.1.3 in ./.local/lib/python3.10/site-packages (from ipywidgets<9,>=7.5.0->bqplot) (0.1.4)\n",
      "Requirement already satisfied: widgetsnbextension~=4.0.7 in ./.local/lib/python3.10/site-packages (from ipywidgets<9,>=7.5.0->bqplot) (4.0.8)\n",
      "Requirement already satisfied: jupyterlab-widgets~=3.0.7 in ./.local/lib/python3.10/site-packages (from ipywidgets<9,>=7.5.0->bqplot) (3.0.8)\n",
      "Requirement already satisfied: pytz>=2020.1 in /usr/lib/python3/dist-packages (from pandas<3.0.0,>=1.0.0->bqplot) (2022.1)\n",
      "Requirement already satisfied: python-dateutil>=2.8.2 in ./.local/lib/python3.10/site-packages (from pandas<3.0.0,>=1.0.0->bqplot) (2.8.2)\n",
      "Requirement already satisfied: tzdata>=2022.1 in ./.local/lib/python3.10/site-packages (from pandas<3.0.0,>=1.0.0->bqplot) (2023.3)\n",
      "Requirement already satisfied: six>=1.5 in /usr/lib/python3/dist-packages (from python-dateutil>=2.8.2->pandas<3.0.0,>=1.0.0->bqplot) (1.16.0)\n",
      "Defaulting to user installation because normal site-packages is not writeable\n",
      "Collecting ipysheet\n",
      "  Downloading ipysheet-0.7.0-py2.py3-none-any.whl (3.8 MB)\n",
      "\u001b[2K     \u001b[90m━━━━━━━━━━━━━━━━━━━━━━━━━━━━━━━━━━━━━━━━\u001b[0m \u001b[32m3.8/3.8 MB\u001b[0m \u001b[31m1.3 MB/s\u001b[0m eta \u001b[36m0:00:00\u001b[0m00:01\u001b[0m00:01\u001b[0m\n",
      "\u001b[?25hRequirement already satisfied: ipywidgets<9.0,>=7.5.0 in ./.local/lib/python3.10/site-packages (from ipysheet) (8.1.0)\n",
      "Requirement already satisfied: widgetsnbextension~=4.0.7 in ./.local/lib/python3.10/site-packages (from ipywidgets<9.0,>=7.5.0->ipysheet) (4.0.8)\n",
      "Requirement already satisfied: jupyterlab-widgets~=3.0.7 in ./.local/lib/python3.10/site-packages (from ipywidgets<9.0,>=7.5.0->ipysheet) (3.0.8)\n",
      "Requirement already satisfied: ipython>=6.1.0 in /usr/lib/python3/dist-packages (from ipywidgets<9.0,>=7.5.0->ipysheet) (7.31.1)\n",
      "Requirement already satisfied: traitlets>=4.3.1 in ./.local/lib/python3.10/site-packages (from ipywidgets<9.0,>=7.5.0->ipysheet) (5.9.0)\n",
      "Requirement already satisfied: comm>=0.1.3 in ./.local/lib/python3.10/site-packages (from ipywidgets<9.0,>=7.5.0->ipysheet) (0.1.4)\n",
      "Installing collected packages: ipysheet\n",
      "Successfully installed ipysheet-0.7.0\n"
     ]
    }
   ],
   "source": [
    "#!pip install bqplot\n",
    "#!pip install ipysheet"
   ]
  },
  {
   "cell_type": "code",
   "execution_count": 5,
   "id": "862c27fa-c30a-4c88-aa57-60f93e4b4e5a",
   "metadata": {},
   "outputs": [
    {
     "data": {
      "application/vnd.jupyter.widget-view+json": {
       "model_id": "b8eb0658d539417b8ab98116b0fe205c",
       "version_major": 2,
       "version_minor": 0
      },
      "text/plain": [
       "HBox(children=(Figure(axes=[Axis(scale=LinearScale()), Axis(orientation='vertical', scale=LinearScale())], fig…"
      ]
     },
     "execution_count": 5,
     "metadata": {},
     "output_type": "execute_result"
    }
   ],
   "source": [
    "import numpy as np\n",
    "from traitlets import link\n",
    "from ipywidgets import HBox\n",
    "import bqplot.pyplot as plt\n",
    "from ipysheet import sheet, cell, column\n",
    "\n",
    "size = 18\n",
    "scale = 100.\n",
    "np.random.seed(0)\n",
    "x_data = np.arange(size)\n",
    "y_data = np.cumsum(np.random.randn(size)  * scale)\n",
    "\n",
    "fig = plt.figure()\n",
    "axes_options = {'x': {'label': 'Date', 'tick_format': '%m/%d'},\n",
    "                'y': {'label': 'Price', 'tick_format': '0.0f'}}\n",
    "\n",
    "scatt = plt.scatter(x_data, y_data, colors=['red'], stroke='black')\n",
    "fig.layout.width = '70%'\n",
    "\n",
    "sheet1 = sheet(rows=size, columns=2)\n",
    "x_column = column(0, x_data)\n",
    "y_column = column(1, y_data)\n",
    "\n",
    "link((scatt, 'x'), (x_column, 'value'))\n",
    "link((scatt, 'y'), (y_column, 'value'))\n",
    "\n",
    "HBox((fig, shee.ipynbt1))"
   ]
  },
  {
   "cell_type": "code",
   "execution_count": null,
   "id": "9716245d-fb7a-44e0-b2bf-2d5d44410ab5",
   "metadata": {},
   "outputs": [],
   "source": []
  }
 ],
 "metadata": {
  "kernelspec": {
   "display_name": "Python 3 (ipykernel)",
   "language": "python",
   "name": "python3"
  },
  "language_info": {
   "codemirror_mode": {
    "name": "ipython",
    "version": 3
   },
   "file_extension": ".py",
   "mimetype": "text/x-python",
   "name": "python",
   "nbconvert_exporter": "python",
   "pygments_lexer": "ipython3",
   "version": "3.10.12"
  }
 },
 "nbformat": 4,
 "nbformat_minor": 5
}
